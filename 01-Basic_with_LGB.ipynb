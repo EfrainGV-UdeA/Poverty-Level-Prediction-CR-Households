{
  "cells": [
    {
      "cell_type": "markdown",
      "source": [
        "#**Costa Rican Household Poverty Level Prediction - Kaggle**\n",
        "###*Can you identify which households have the highest need for social welfare assistance?*\n",
        "Efraín García Valencia - UdeA"
      ],
      "metadata": {
        "id": "mQnx8G4aEvSI"
      },
      "id": "mQnx8G4aEvSI"
    },
    {
      "cell_type": "markdown",
      "source": [
        "#**1. Importing the DataSet from Kaggle**\n",
        "###(Note that you will need your own API token from Kaggle)"
      ],
      "metadata": {
        "id": "LvClTpVcFKli"
      },
      "id": "LvClTpVcFKli"
    },
    {
      "cell_type": "code",
      "source": [
        "!pip install -q kaggle"
      ],
      "metadata": {
        "id": "bJxKWfOHM1L9"
      },
      "id": "bJxKWfOHM1L9",
      "execution_count": 1,
      "outputs": []
    },
    {
      "cell_type": "code",
      "source": [
        "from google.colab import files\n",
        "files.upload()"
      ],
      "metadata": {
        "colab": {
          "base_uri": "https://localhost:8080/",
          "height": 90
        },
        "id": "G_Q1MvhWM2z_",
        "outputId": "d239420c-d519-4719-ffb9-3c22072a0f21"
      },
      "id": "G_Q1MvhWM2z_",
      "execution_count": 2,
      "outputs": [
        {
          "output_type": "display_data",
          "data": {
            "text/plain": [
              "<IPython.core.display.HTML object>"
            ],
            "text/html": [
              "\n",
              "     <input type=\"file\" id=\"files-1217dfed-ca3b-4312-93af-94dcffc75de9\" name=\"files[]\" multiple disabled\n",
              "        style=\"border:none\" />\n",
              "     <output id=\"result-1217dfed-ca3b-4312-93af-94dcffc75de9\">\n",
              "      Upload widget is only available when the cell has been executed in the\n",
              "      current browser session. Please rerun this cell to enable.\n",
              "      </output>\n",
              "      <script>// Copyright 2017 Google LLC\n",
              "//\n",
              "// Licensed under the Apache License, Version 2.0 (the \"License\");\n",
              "// you may not use this file except in compliance with the License.\n",
              "// You may obtain a copy of the License at\n",
              "//\n",
              "//      http://www.apache.org/licenses/LICENSE-2.0\n",
              "//\n",
              "// Unless required by applicable law or agreed to in writing, software\n",
              "// distributed under the License is distributed on an \"AS IS\" BASIS,\n",
              "// WITHOUT WARRANTIES OR CONDITIONS OF ANY KIND, either express or implied.\n",
              "// See the License for the specific language governing permissions and\n",
              "// limitations under the License.\n",
              "\n",
              "/**\n",
              " * @fileoverview Helpers for google.colab Python module.\n",
              " */\n",
              "(function(scope) {\n",
              "function span(text, styleAttributes = {}) {\n",
              "  const element = document.createElement('span');\n",
              "  element.textContent = text;\n",
              "  for (const key of Object.keys(styleAttributes)) {\n",
              "    element.style[key] = styleAttributes[key];\n",
              "  }\n",
              "  return element;\n",
              "}\n",
              "\n",
              "// Max number of bytes which will be uploaded at a time.\n",
              "const MAX_PAYLOAD_SIZE = 100 * 1024;\n",
              "\n",
              "function _uploadFiles(inputId, outputId) {\n",
              "  const steps = uploadFilesStep(inputId, outputId);\n",
              "  const outputElement = document.getElementById(outputId);\n",
              "  // Cache steps on the outputElement to make it available for the next call\n",
              "  // to uploadFilesContinue from Python.\n",
              "  outputElement.steps = steps;\n",
              "\n",
              "  return _uploadFilesContinue(outputId);\n",
              "}\n",
              "\n",
              "// This is roughly an async generator (not supported in the browser yet),\n",
              "// where there are multiple asynchronous steps and the Python side is going\n",
              "// to poll for completion of each step.\n",
              "// This uses a Promise to block the python side on completion of each step,\n",
              "// then passes the result of the previous step as the input to the next step.\n",
              "function _uploadFilesContinue(outputId) {\n",
              "  const outputElement = document.getElementById(outputId);\n",
              "  const steps = outputElement.steps;\n",
              "\n",
              "  const next = steps.next(outputElement.lastPromiseValue);\n",
              "  return Promise.resolve(next.value.promise).then((value) => {\n",
              "    // Cache the last promise value to make it available to the next\n",
              "    // step of the generator.\n",
              "    outputElement.lastPromiseValue = value;\n",
              "    return next.value.response;\n",
              "  });\n",
              "}\n",
              "\n",
              "/**\n",
              " * Generator function which is called between each async step of the upload\n",
              " * process.\n",
              " * @param {string} inputId Element ID of the input file picker element.\n",
              " * @param {string} outputId Element ID of the output display.\n",
              " * @return {!Iterable<!Object>} Iterable of next steps.\n",
              " */\n",
              "function* uploadFilesStep(inputId, outputId) {\n",
              "  const inputElement = document.getElementById(inputId);\n",
              "  inputElement.disabled = false;\n",
              "\n",
              "  const outputElement = document.getElementById(outputId);\n",
              "  outputElement.innerHTML = '';\n",
              "\n",
              "  const pickedPromise = new Promise((resolve) => {\n",
              "    inputElement.addEventListener('change', (e) => {\n",
              "      resolve(e.target.files);\n",
              "    });\n",
              "  });\n",
              "\n",
              "  const cancel = document.createElement('button');\n",
              "  inputElement.parentElement.appendChild(cancel);\n",
              "  cancel.textContent = 'Cancel upload';\n",
              "  const cancelPromise = new Promise((resolve) => {\n",
              "    cancel.onclick = () => {\n",
              "      resolve(null);\n",
              "    };\n",
              "  });\n",
              "\n",
              "  // Wait for the user to pick the files.\n",
              "  const files = yield {\n",
              "    promise: Promise.race([pickedPromise, cancelPromise]),\n",
              "    response: {\n",
              "      action: 'starting',\n",
              "    }\n",
              "  };\n",
              "\n",
              "  cancel.remove();\n",
              "\n",
              "  // Disable the input element since further picks are not allowed.\n",
              "  inputElement.disabled = true;\n",
              "\n",
              "  if (!files) {\n",
              "    return {\n",
              "      response: {\n",
              "        action: 'complete',\n",
              "      }\n",
              "    };\n",
              "  }\n",
              "\n",
              "  for (const file of files) {\n",
              "    const li = document.createElement('li');\n",
              "    li.append(span(file.name, {fontWeight: 'bold'}));\n",
              "    li.append(span(\n",
              "        `(${file.type || 'n/a'}) - ${file.size} bytes, ` +\n",
              "        `last modified: ${\n",
              "            file.lastModifiedDate ? file.lastModifiedDate.toLocaleDateString() :\n",
              "                                    'n/a'} - `));\n",
              "    const percent = span('0% done');\n",
              "    li.appendChild(percent);\n",
              "\n",
              "    outputElement.appendChild(li);\n",
              "\n",
              "    const fileDataPromise = new Promise((resolve) => {\n",
              "      const reader = new FileReader();\n",
              "      reader.onload = (e) => {\n",
              "        resolve(e.target.result);\n",
              "      };\n",
              "      reader.readAsArrayBuffer(file);\n",
              "    });\n",
              "    // Wait for the data to be ready.\n",
              "    let fileData = yield {\n",
              "      promise: fileDataPromise,\n",
              "      response: {\n",
              "        action: 'continue',\n",
              "      }\n",
              "    };\n",
              "\n",
              "    // Use a chunked sending to avoid message size limits. See b/62115660.\n",
              "    let position = 0;\n",
              "    do {\n",
              "      const length = Math.min(fileData.byteLength - position, MAX_PAYLOAD_SIZE);\n",
              "      const chunk = new Uint8Array(fileData, position, length);\n",
              "      position += length;\n",
              "\n",
              "      const base64 = btoa(String.fromCharCode.apply(null, chunk));\n",
              "      yield {\n",
              "        response: {\n",
              "          action: 'append',\n",
              "          file: file.name,\n",
              "          data: base64,\n",
              "        },\n",
              "      };\n",
              "\n",
              "      let percentDone = fileData.byteLength === 0 ?\n",
              "          100 :\n",
              "          Math.round((position / fileData.byteLength) * 100);\n",
              "      percent.textContent = `${percentDone}% done`;\n",
              "\n",
              "    } while (position < fileData.byteLength);\n",
              "  }\n",
              "\n",
              "  // All done.\n",
              "  yield {\n",
              "    response: {\n",
              "      action: 'complete',\n",
              "    }\n",
              "  };\n",
              "}\n",
              "\n",
              "scope.google = scope.google || {};\n",
              "scope.google.colab = scope.google.colab || {};\n",
              "scope.google.colab._files = {\n",
              "  _uploadFiles,\n",
              "  _uploadFilesContinue,\n",
              "};\n",
              "})(self);\n",
              "</script> "
            ]
          },
          "metadata": {}
        },
        {
          "output_type": "stream",
          "name": "stdout",
          "text": [
            "Saving kaggle.json to kaggle.json\n"
          ]
        },
        {
          "output_type": "execute_result",
          "data": {
            "text/plain": [
              "{'kaggle.json': b'{\"username\":\"efrangarcavalencia\",\"key\":\"1b44762b46d8ef3248d00266066caf2d\"}'}"
            ]
          },
          "metadata": {},
          "execution_count": 2
        }
      ]
    },
    {
      "cell_type": "code",
      "source": [
        "#!rm -r ~/.kaggle\n",
        "!mkdir ~/.kaggle\n",
        "!mv ./kaggle.json ~/.kaggle/\n",
        "!chmod 600 ~/.kaggle/kaggle.json"
      ],
      "metadata": {
        "id": "qW1naXn7M_Ks"
      },
      "id": "qW1naXn7M_Ks",
      "execution_count": 3,
      "outputs": []
    },
    {
      "cell_type": "code",
      "source": [
        "!kaggle competitions download -c costa-rican-household-poverty-prediction # Download the competition DataSet from Kaggle"
      ],
      "metadata": {
        "colab": {
          "base_uri": "https://localhost:8080/"
        },
        "id": "3fz86d42NC_j",
        "outputId": "66ea81d6-6fb6-4290-b486-98228e0fec53"
      },
      "id": "3fz86d42NC_j",
      "execution_count": 4,
      "outputs": [
        {
          "output_type": "stream",
          "name": "stdout",
          "text": [
            "Downloading costa-rican-household-poverty-prediction.zip to /content\n",
            "\r  0% 0.00/2.33M [00:00<?, ?B/s]\n",
            "\r100% 2.33M/2.33M [00:00<00:00, 162MB/s]\n"
          ]
        }
      ]
    },
    {
      "cell_type": "code",
      "source": [
        "!mkdir DataSet # Create the \"DataSet\" folder if it doesn't already exist\n",
        "!unzip -q costa-rican-household-poverty-prediction.zip train.csv test.csv -d DataSet # Unzip only the train.csv and test.csv files into the \"DataSet\" folder"
      ],
      "metadata": {
        "id": "D8lMifDdNGBw"
      },
      "id": "D8lMifDdNGBw",
      "execution_count": 5,
      "outputs": []
    },
    {
      "cell_type": "code",
      "source": [
        "!mkdir working"
      ],
      "metadata": {
        "id": "6rsRt7GHmwjF"
      },
      "id": "6rsRt7GHmwjF",
      "execution_count": 6,
      "outputs": []
    },
    {
      "cell_type": "code",
      "execution_count": 7,
      "id": "3b1206ca",
      "metadata": {
        "execution": {
          "iopub.execute_input": "2023-02-07T15:04:04.087900Z",
          "iopub.status.busy": "2023-02-07T15:04:04.087412Z",
          "iopub.status.idle": "2023-02-07T15:04:04.098135Z",
          "shell.execute_reply": "2023-02-07T15:04:04.097103Z"
        },
        "papermill": {
          "duration": 0.020992,
          "end_time": "2023-02-07T15:04:04.100749",
          "exception": false,
          "start_time": "2023-02-07T15:04:04.079757",
          "status": "completed"
        },
        "tags": [],
        "id": "3b1206ca"
      },
      "outputs": [],
      "source": [
        "input_dir = 'DataSet/'\n",
        "working_dir = 'working/'"
      ]
    },
    {
      "cell_type": "markdown",
      "source": [
        "#**2. Data Cleaning**"
      ],
      "metadata": {
        "id": "i1DI15hAFUXM"
      },
      "id": "i1DI15hAFUXM"
    },
    {
      "cell_type": "code",
      "execution_count": 8,
      "id": "4ee935d2",
      "metadata": {
        "execution": {
          "iopub.execute_input": "2023-02-07T15:04:04.112373Z",
          "iopub.status.busy": "2023-02-07T15:04:04.111903Z",
          "iopub.status.idle": "2023-02-07T15:04:04.119246Z",
          "shell.execute_reply": "2023-02-07T15:04:04.117965Z"
        },
        "papermill": {
          "duration": 0.016242,
          "end_time": "2023-02-07T15:04:04.121940",
          "exception": false,
          "start_time": "2023-02-07T15:04:04.105698",
          "status": "completed"
        },
        "tags": [],
        "id": "4ee935d2"
      },
      "outputs": [],
      "source": [
        "import os\n",
        "import numpy as np\n",
        "import pandas as pd\n",
        "import matplotlib.pyplot as plt\n",
        "%matplotlib inline"
      ]
    },
    {
      "cell_type": "code",
      "execution_count": 9,
      "id": "889dc745",
      "metadata": {
        "execution": {
          "iopub.execute_input": "2023-02-07T15:04:04.133246Z",
          "iopub.status.busy": "2023-02-07T15:04:04.132806Z",
          "iopub.status.idle": "2023-02-07T15:04:04.809361Z",
          "shell.execute_reply": "2023-02-07T15:04:04.807741Z"
        },
        "papermill": {
          "duration": 0.686498,
          "end_time": "2023-02-07T15:04:04.813391",
          "exception": false,
          "start_time": "2023-02-07T15:04:04.126893",
          "status": "completed"
        },
        "tags": [],
        "id": "889dc745"
      },
      "outputs": [],
      "source": [
        "train = pd.read_csv(os.path.join(input_dir, 'train.csv'))\n",
        "test = pd.read_csv(os.path.join(input_dir, 'test.csv'))\n",
        "\n",
        "train.index = train['Id'].values\n",
        "test.index = test['Id'].values\n"
      ]
    },
    {
      "cell_type": "code",
      "execution_count": 10,
      "id": "cc7f190a",
      "metadata": {
        "execution": {
          "iopub.execute_input": "2023-02-07T15:04:04.826960Z",
          "iopub.status.busy": "2023-02-07T15:04:04.826419Z",
          "iopub.status.idle": "2023-02-07T15:04:04.846616Z",
          "shell.execute_reply": "2023-02-07T15:04:04.844944Z"
        },
        "papermill": {
          "duration": 0.029927,
          "end_time": "2023-02-07T15:04:04.850015",
          "exception": false,
          "start_time": "2023-02-07T15:04:04.820088",
          "status": "completed"
        },
        "tags": [],
        "id": "cc7f190a"
      },
      "outputs": [],
      "source": [
        "def data_cleaning(data):\n",
        "    data['dependency']=np.sqrt(data['SQBdependency'])\n",
        "    data['rez_esc']=data['rez_esc'].fillna(0)\n",
        "    data['v18q1']=data['v18q1'].fillna(0)\n",
        "    data['v2a1']=data['v2a1'].fillna(0)\n",
        "\n",
        "    conditions = [\n",
        "    (data['edjefe']=='no') & (data['edjefa']=='no'),\n",
        "    (data['edjefe']=='yes') & (data['edjefa']=='no'),\n",
        "    (data['edjefe']=='no') & (data['edjefa']=='yes'),\n",
        "    (data['edjefe']!='no') & (data['edjefe']!='yes') & (data['edjefa']=='no'),\n",
        "    (data['edjefe']=='no') & (data['edjefa']!='no')\n",
        "    ]\n",
        "    choices = [0, 1, 1, data['edjefe'], data['edjefa']]\n",
        "    data['edjefx']=np.select(conditions, choices)\n",
        "    data['edjefx']=data['edjefx'].astype(int)\n",
        "    data.drop(['edjefe', 'edjefa'], axis=1, inplace=True)\n",
        "\n",
        "    meaneduc_nan=data[data['meaneduc'].isnull()][['Id','idhogar','escolari']]\n",
        "    me=meaneduc_nan.groupby('idhogar')['escolari'].mean().reset_index()\n",
        "    for row in meaneduc_nan.iterrows():\n",
        "        idx=row[0]\n",
        "        idhogar=row[1]['idhogar']\n",
        "        m=me[me['idhogar']==idhogar]['escolari'].tolist()[0]\n",
        "        data.at[idx, 'meaneduc']=m\n",
        "        data.at[idx, 'SQBmeaned']=m*m\n",
        "\n",
        "    return data"
      ]
    },
    {
      "cell_type": "code",
      "execution_count": 11,
      "id": "e15bd5ed",
      "metadata": {
        "execution": {
          "iopub.execute_input": "2023-02-07T15:04:04.862435Z",
          "iopub.status.busy": "2023-02-07T15:04:04.861973Z",
          "iopub.status.idle": "2023-02-07T15:04:04.993273Z",
          "shell.execute_reply": "2023-02-07T15:04:04.991798Z"
        },
        "papermill": {
          "duration": 0.141039,
          "end_time": "2023-02-07T15:04:04.996342",
          "exception": false,
          "start_time": "2023-02-07T15:04:04.855303",
          "status": "completed"
        },
        "tags": [],
        "id": "e15bd5ed"
      },
      "outputs": [],
      "source": [
        "train = data_cleaning(train)\n",
        "test = data_cleaning(test)"
      ]
    },
    {
      "cell_type": "code",
      "execution_count": 12,
      "id": "c5126e75",
      "metadata": {
        "execution": {
          "iopub.execute_input": "2023-02-07T15:04:05.008140Z",
          "iopub.status.busy": "2023-02-07T15:04:05.006985Z",
          "iopub.status.idle": "2023-02-07T15:04:05.041493Z",
          "shell.execute_reply": "2023-02-07T15:04:05.040062Z"
        },
        "papermill": {
          "duration": 0.043404,
          "end_time": "2023-02-07T15:04:05.044417",
          "exception": false,
          "start_time": "2023-02-07T15:04:05.001013",
          "status": "completed"
        },
        "tags": [],
        "id": "c5126e75"
      },
      "outputs": [],
      "source": [
        "train = train.query('parentesco1==1')\n",
        "train = train.drop('parentesco1', axis=1)\n",
        "test = test.drop('parentesco1', axis=1)"
      ]
    },
    {
      "cell_type": "code",
      "execution_count": 13,
      "id": "1f37db44",
      "metadata": {
        "execution": {
          "iopub.execute_input": "2023-02-07T15:04:05.055599Z",
          "iopub.status.busy": "2023-02-07T15:04:05.055151Z",
          "iopub.status.idle": "2023-02-07T15:04:05.062838Z",
          "shell.execute_reply": "2023-02-07T15:04:05.061530Z"
        },
        "papermill": {
          "duration": 0.016415,
          "end_time": "2023-02-07T15:04:05.065542",
          "exception": false,
          "start_time": "2023-02-07T15:04:05.049127",
          "status": "completed"
        },
        "tags": [],
        "id": "1f37db44"
      },
      "outputs": [],
      "source": [
        "def get_numeric(data, status_name):\n",
        "    status_cols = [s for s in data.columns.tolist() if status_name in s]\n",
        "    print('status column names')\n",
        "    print(status_cols)\n",
        "    status_df = data[status_cols]\n",
        "    status_df.columns = list(range(status_df.shape[1]))\n",
        "    status_numeric = status_df.idxmax(1)\n",
        "    status_numeric.name = status_name\n",
        "    data = pd.concat([data, status_numeric], axis=1)\n",
        "    return data"
      ]
    },
    {
      "cell_type": "code",
      "execution_count": 14,
      "id": "daa7e21c",
      "metadata": {
        "execution": {
          "iopub.execute_input": "2023-02-07T15:04:05.078912Z",
          "iopub.status.busy": "2023-02-07T15:04:05.076384Z",
          "iopub.status.idle": "2023-02-07T15:04:05.409986Z",
          "shell.execute_reply": "2023-02-07T15:04:05.409062Z"
        },
        "papermill": {
          "duration": 0.342645,
          "end_time": "2023-02-07T15:04:05.413044",
          "exception": false,
          "start_time": "2023-02-07T15:04:05.070399",
          "status": "completed"
        },
        "tags": [],
        "colab": {
          "base_uri": "https://localhost:8080/"
        },
        "id": "daa7e21c",
        "outputId": "1a196e25-78c9-4782-db29-9797ae1263e1"
      },
      "outputs": [
        {
          "output_type": "stream",
          "name": "stdout",
          "text": [
            "status column names\n",
            "['epared1', 'epared2', 'epared3']\n",
            "status column names\n",
            "['epared1', 'epared2', 'epared3']\n",
            "status column names\n",
            "['etecho1', 'etecho2', 'etecho3']\n",
            "status column names\n",
            "['etecho1', 'etecho2', 'etecho3']\n",
            "status column names\n",
            "['eviv1', 'eviv2', 'eviv3']\n",
            "status column names\n",
            "['eviv1', 'eviv2', 'eviv3']\n",
            "status column names\n",
            "['instlevel1', 'instlevel2', 'instlevel3', 'instlevel4', 'instlevel5', 'instlevel6', 'instlevel7', 'instlevel8', 'instlevel9']\n",
            "status column names\n",
            "['instlevel1', 'instlevel2', 'instlevel3', 'instlevel4', 'instlevel5', 'instlevel6', 'instlevel7', 'instlevel8', 'instlevel9']\n"
          ]
        }
      ],
      "source": [
        "status_name_list = ['epared', 'etecho', 'eviv', 'instlevel']\n",
        "for status_name in status_name_list:\n",
        "    train = get_numeric(train, status_name)\n",
        "    test = get_numeric(test, status_name)"
      ]
    },
    {
      "cell_type": "code",
      "execution_count": 15,
      "id": "9d59a3df",
      "metadata": {
        "execution": {
          "iopub.execute_input": "2023-02-07T15:04:05.430648Z",
          "iopub.status.busy": "2023-02-07T15:04:05.429779Z",
          "iopub.status.idle": "2023-02-07T15:04:05.476235Z",
          "shell.execute_reply": "2023-02-07T15:04:05.475278Z"
        },
        "papermill": {
          "duration": 0.059184,
          "end_time": "2023-02-07T15:04:05.479496",
          "exception": false,
          "start_time": "2023-02-07T15:04:05.420312",
          "status": "completed"
        },
        "tags": [],
        "id": "9d59a3df"
      },
      "outputs": [],
      "source": [
        "needless_cols = ['r4t3', 'tamhog', 'hogar_total', 'hhsize', 'v18q', 'sanitario1', 'agesq',\n",
        "                 'mobilephone', 'area1', 'female', 'epared1', 'epared2',\n",
        "                 'epared3', 'etecho1', 'etecho2', 'etecho3',\n",
        "                 'eviv1', 'eviv2', 'eviv3', 'instlevel1', 'instlevel2',\n",
        "                 'instlevel3', 'instlevel4', 'instlevel5', 'instlevel6',\n",
        "                 'instlevel7', 'instlevel8', 'instlevel9', 'abastaguafuera']\n",
        "SQB_cols = [s for s in train.columns.tolist() if 'SQB' in s]\n",
        "parentesco_cols = [s for s in train.columns.tolist() if 'parentesco' in s]\n",
        "\n",
        "needless_cols.extend(SQB_cols)\n",
        "needless_cols.extend(parentesco_cols)\n",
        "\n",
        "train = train.drop(needless_cols, axis=1)\n",
        "test = test.drop(needless_cols, axis=1)"
      ]
    },
    {
      "cell_type": "code",
      "execution_count": 16,
      "id": "749938f4",
      "metadata": {
        "execution": {
          "iopub.execute_input": "2023-02-07T15:04:05.496124Z",
          "iopub.status.busy": "2023-02-07T15:04:05.495454Z",
          "iopub.status.idle": "2023-02-07T15:04:05.638981Z",
          "shell.execute_reply": "2023-02-07T15:04:05.638094Z"
        },
        "papermill": {
          "duration": 0.154864,
          "end_time": "2023-02-07T15:04:05.641659",
          "exception": false,
          "start_time": "2023-02-07T15:04:05.486795",
          "status": "completed"
        },
        "tags": [],
        "colab": {
          "base_uri": "https://localhost:8080/"
        },
        "id": "749938f4",
        "outputId": "e242cd91-18d6-4e3d-82ae-ff242081a540"
      },
      "outputs": [
        {
          "output_type": "stream",
          "name": "stdout",
          "text": [
            "feature columns \n",
            " 140 -> 94\n"
          ]
        }
      ],
      "source": [
        "ori_train = pd.read_csv(os.path.join(input_dir, 'train.csv'))\n",
        "ori_train_X = ori_train.drop(['Id', 'Target', 'idhogar'], axis=1)\n",
        "\n",
        "train_X = train.drop(['Id', 'Target', 'idhogar'], axis=1)\n",
        "\n",
        "print('feature columns \\n {} -> {}'.format(ori_train_X.shape[1], train_X.shape[1]))"
      ]
    },
    {
      "cell_type": "code",
      "execution_count": 17,
      "id": "f8b58181",
      "metadata": {
        "execution": {
          "iopub.execute_input": "2023-02-07T15:04:05.658804Z",
          "iopub.status.busy": "2023-02-07T15:04:05.657746Z",
          "iopub.status.idle": "2023-02-07T15:04:05.697881Z",
          "shell.execute_reply": "2023-02-07T15:04:05.696959Z"
        },
        "papermill": {
          "duration": 0.051101,
          "end_time": "2023-02-07T15:04:05.700480",
          "exception": false,
          "start_time": "2023-02-07T15:04:05.649379",
          "status": "completed"
        },
        "tags": [],
        "id": "f8b58181"
      },
      "outputs": [],
      "source": [
        "train_Id = train['Id']\n",
        "train_idhogar = train['idhogar']\n",
        "train_y = train['Target']\n",
        "train_X = train.drop(['Id', 'Target', 'idhogar'], axis=1)\n",
        "\n",
        "test_Id = test['Id']\n",
        "test_idhogar = test['idhogar']\n",
        "test_X = test.drop(['Id', 'idhogar'], axis=1)\n",
        "\n",
        "all_Id = pd.concat([train_Id, test_Id], axis=0, sort=False)\n",
        "all_idhogar = pd.concat([train_idhogar, test_idhogar], axis=0, sort=False)\n",
        "all_X = pd.concat([train_X, test_X], axis=0, sort=False)"
      ]
    },
    {
      "cell_type": "markdown",
      "source": [
        "#**3. LGBM Classifier model training**"
      ],
      "metadata": {
        "id": "Outiczi7GGGa"
      },
      "id": "Outiczi7GGGa"
    },
    {
      "cell_type": "code",
      "execution_count": 18,
      "id": "54c83727",
      "metadata": {
        "execution": {
          "iopub.execute_input": "2023-02-07T15:04:05.713369Z",
          "iopub.status.busy": "2023-02-07T15:04:05.711806Z",
          "iopub.status.idle": "2023-02-07T15:04:08.370098Z",
          "shell.execute_reply": "2023-02-07T15:04:08.369048Z"
        },
        "papermill": {
          "duration": 2.668404,
          "end_time": "2023-02-07T15:04:08.373886",
          "exception": false,
          "start_time": "2023-02-07T15:04:05.705482",
          "status": "completed"
        },
        "tags": [],
        "colab": {
          "base_uri": "https://localhost:8080/",
          "height": 230
        },
        "id": "54c83727",
        "outputId": "aba7742d-4f9c-4c70-b953-e91ea4b7a896"
      },
      "outputs": [
        {
          "output_type": "stream",
          "name": "stdout",
          "text": [
            "[LightGBM] [Info] Auto-choosing row-wise multi-threading, the overhead of testing was 0.001689 seconds.\n",
            "You can set `force_row_wise=true` to remove the overhead.\n",
            "And if memory is not enough, you can set `force_col_wise=true`.\n",
            "[LightGBM] [Info] Total Bins 590\n",
            "[LightGBM] [Info] Number of data points in the train set: 2675, number of used features: 77\n",
            "[LightGBM] [Info] Start training from score -2.593387\n",
            "[LightGBM] [Info] Start training from score -1.915354\n",
            "[LightGBM] [Info] Start training from score -2.132803\n",
            "[LightGBM] [Info] Start training from score -0.416365\n"
          ]
        },
        {
          "output_type": "execute_result",
          "data": {
            "text/plain": [
              "LGBMClassifier()"
            ],
            "text/html": [
              "<style>#sk-container-id-1 {color: black;background-color: white;}#sk-container-id-1 pre{padding: 0;}#sk-container-id-1 div.sk-toggleable {background-color: white;}#sk-container-id-1 label.sk-toggleable__label {cursor: pointer;display: block;width: 100%;margin-bottom: 0;padding: 0.3em;box-sizing: border-box;text-align: center;}#sk-container-id-1 label.sk-toggleable__label-arrow:before {content: \"▸\";float: left;margin-right: 0.25em;color: #696969;}#sk-container-id-1 label.sk-toggleable__label-arrow:hover:before {color: black;}#sk-container-id-1 div.sk-estimator:hover label.sk-toggleable__label-arrow:before {color: black;}#sk-container-id-1 div.sk-toggleable__content {max-height: 0;max-width: 0;overflow: hidden;text-align: left;background-color: #f0f8ff;}#sk-container-id-1 div.sk-toggleable__content pre {margin: 0.2em;color: black;border-radius: 0.25em;background-color: #f0f8ff;}#sk-container-id-1 input.sk-toggleable__control:checked~div.sk-toggleable__content {max-height: 200px;max-width: 100%;overflow: auto;}#sk-container-id-1 input.sk-toggleable__control:checked~label.sk-toggleable__label-arrow:before {content: \"▾\";}#sk-container-id-1 div.sk-estimator input.sk-toggleable__control:checked~label.sk-toggleable__label {background-color: #d4ebff;}#sk-container-id-1 div.sk-label input.sk-toggleable__control:checked~label.sk-toggleable__label {background-color: #d4ebff;}#sk-container-id-1 input.sk-hidden--visually {border: 0;clip: rect(1px 1px 1px 1px);clip: rect(1px, 1px, 1px, 1px);height: 1px;margin: -1px;overflow: hidden;padding: 0;position: absolute;width: 1px;}#sk-container-id-1 div.sk-estimator {font-family: monospace;background-color: #f0f8ff;border: 1px dotted black;border-radius: 0.25em;box-sizing: border-box;margin-bottom: 0.5em;}#sk-container-id-1 div.sk-estimator:hover {background-color: #d4ebff;}#sk-container-id-1 div.sk-parallel-item::after {content: \"\";width: 100%;border-bottom: 1px solid gray;flex-grow: 1;}#sk-container-id-1 div.sk-label:hover label.sk-toggleable__label {background-color: #d4ebff;}#sk-container-id-1 div.sk-serial::before {content: \"\";position: absolute;border-left: 1px solid gray;box-sizing: border-box;top: 0;bottom: 0;left: 50%;z-index: 0;}#sk-container-id-1 div.sk-serial {display: flex;flex-direction: column;align-items: center;background-color: white;padding-right: 0.2em;padding-left: 0.2em;position: relative;}#sk-container-id-1 div.sk-item {position: relative;z-index: 1;}#sk-container-id-1 div.sk-parallel {display: flex;align-items: stretch;justify-content: center;background-color: white;position: relative;}#sk-container-id-1 div.sk-item::before, #sk-container-id-1 div.sk-parallel-item::before {content: \"\";position: absolute;border-left: 1px solid gray;box-sizing: border-box;top: 0;bottom: 0;left: 50%;z-index: -1;}#sk-container-id-1 div.sk-parallel-item {display: flex;flex-direction: column;z-index: 1;position: relative;background-color: white;}#sk-container-id-1 div.sk-parallel-item:first-child::after {align-self: flex-end;width: 50%;}#sk-container-id-1 div.sk-parallel-item:last-child::after {align-self: flex-start;width: 50%;}#sk-container-id-1 div.sk-parallel-item:only-child::after {width: 0;}#sk-container-id-1 div.sk-dashed-wrapped {border: 1px dashed gray;margin: 0 0.4em 0.5em 0.4em;box-sizing: border-box;padding-bottom: 0.4em;background-color: white;}#sk-container-id-1 div.sk-label label {font-family: monospace;font-weight: bold;display: inline-block;line-height: 1.2em;}#sk-container-id-1 div.sk-label-container {text-align: center;}#sk-container-id-1 div.sk-container {/* jupyter's `normalize.less` sets `[hidden] { display: none; }` but bootstrap.min.css set `[hidden] { display: none !important; }` so we also need the `!important` here to be able to override the default hidden behavior on the sphinx rendered scikit-learn.org. See: https://github.com/scikit-learn/scikit-learn/issues/21755 */display: inline-block !important;position: relative;}#sk-container-id-1 div.sk-text-repr-fallback {display: none;}</style><div id=\"sk-container-id-1\" class=\"sk-top-container\"><div class=\"sk-text-repr-fallback\"><pre>LGBMClassifier()</pre><b>In a Jupyter environment, please rerun this cell to show the HTML representation or trust the notebook. <br />On GitHub, the HTML representation is unable to render, please try loading this page with nbviewer.org.</b></div><div class=\"sk-container\" hidden><div class=\"sk-item\"><div class=\"sk-estimator sk-toggleable\"><input class=\"sk-toggleable__control sk-hidden--visually\" id=\"sk-estimator-id-1\" type=\"checkbox\" checked><label for=\"sk-estimator-id-1\" class=\"sk-toggleable__label sk-toggleable__label-arrow\">LGBMClassifier</label><div class=\"sk-toggleable__content\"><pre>LGBMClassifier()</pre></div></div></div></div></div>"
            ]
          },
          "metadata": {},
          "execution_count": 18
        }
      ],
      "source": [
        "from sklearn.model_selection import train_test_split, GridSearchCV\n",
        "from sklearn.metrics import confusion_matrix, f1_score, make_scorer\n",
        "import lightgbm as lgb\n",
        "\n",
        "X_train, X_test, y_train, y_test = train_test_split(train_X, train_y, test_size=0.1, random_state=0)\n",
        "\n",
        "F1_scorer = make_scorer(f1_score, greater_is_better=True, average='macro')\n",
        "\n",
        "gbm = lgb.LGBMClassifier()\n",
        "\n",
        "gbm.fit(X_train, y_train)"
      ]
    },
    {
      "cell_type": "code",
      "execution_count": 20,
      "id": "938f9ac6",
      "metadata": {
        "execution": {
          "iopub.execute_input": "2023-02-07T15:04:08.387761Z",
          "iopub.status.busy": "2023-02-07T15:04:08.386854Z",
          "iopub.status.idle": "2023-02-07T15:04:08.436917Z",
          "shell.execute_reply": "2023-02-07T15:04:08.435929Z"
        },
        "papermill": {
          "duration": 0.059709,
          "end_time": "2023-02-07T15:04:08.439764",
          "exception": false,
          "start_time": "2023-02-07T15:04:08.380055",
          "status": "completed"
        },
        "tags": [],
        "id": "938f9ac6"
      },
      "outputs": [],
      "source": [
        "import pickle\n",
        "with open(os.path.join(working_dir, '20180801_lgbm.pickle'), mode='wb') as f:\n",
        "    pickle.dump(gbm, f)"
      ]
    },
    {
      "cell_type": "code",
      "execution_count": 21,
      "id": "f482e894",
      "metadata": {
        "execution": {
          "iopub.execute_input": "2023-02-07T15:04:08.453561Z",
          "iopub.status.busy": "2023-02-07T15:04:08.453142Z",
          "iopub.status.idle": "2023-02-07T15:04:08.777871Z",
          "shell.execute_reply": "2023-02-07T15:04:08.776619Z"
        },
        "papermill": {
          "duration": 0.334767,
          "end_time": "2023-02-07T15:04:08.781081",
          "exception": false,
          "start_time": "2023-02-07T15:04:08.446314",
          "status": "completed"
        },
        "tags": [],
        "id": "f482e894"
      },
      "outputs": [],
      "source": [
        "pred = gbm.predict(test_X)\n",
        "pred = pd.Series(data=pred, index=test_Id.values, name='Target')\n",
        "pred = pd.concat([test_Id, pred], axis=1)\n",
        "submission = pred\n",
        "submission.to_csv('submission.csv', index=False)"
      ]
    },
    {
      "cell_type": "markdown",
      "id": "56267756",
      "metadata": {
        "papermill": {
          "duration": 0.005104,
          "end_time": "2023-02-07T15:04:08.791378",
          "exception": false,
          "start_time": "2023-02-07T15:04:08.786274",
          "status": "completed"
        },
        "tags": [],
        "id": "56267756"
      },
      "source": []
    },
    {
      "cell_type": "code",
      "execution_count": 22,
      "id": "a3742a03",
      "metadata": {
        "execution": {
          "iopub.execute_input": "2023-02-07T15:04:08.804227Z",
          "iopub.status.busy": "2023-02-07T15:04:08.803446Z",
          "iopub.status.idle": "2023-02-07T15:04:08.825040Z",
          "shell.execute_reply": "2023-02-07T15:04:08.823916Z"
        },
        "papermill": {
          "duration": 0.031226,
          "end_time": "2023-02-07T15:04:08.827810",
          "exception": false,
          "start_time": "2023-02-07T15:04:08.796584",
          "status": "completed"
        },
        "tags": [],
        "id": "a3742a03",
        "colab": {
          "base_uri": "https://localhost:8080/"
        },
        "outputId": "b5a4538e-007d-448e-ef5a-fd6c7c3b5d1c"
      },
      "outputs": [
        {
          "output_type": "stream",
          "name": "stdout",
          "text": [
            "confusion matrix: \n",
            " [[  5   7   1   9]\n",
            " [  4  12   2  30]\n",
            " [  3   6   3  26]\n",
            " [  1   7   6 176]]\n",
            "macro F1 score: \n",
            " 0.38060490553529996\n"
          ]
        }
      ],
      "source": [
        "y_test_pred = gbm.predict(X_test)\n",
        "cm = confusion_matrix(y_test, y_test_pred)\n",
        "f1 = f1_score(y_test, y_test_pred, average='macro')\n",
        "print(\"confusion matrix: \\n\", cm)\n",
        "print(\"macro F1 score: \\n\", f1)"
      ]
    },
    {
      "cell_type": "code",
      "source": [],
      "metadata": {
        "id": "VH3LJE3tx4Ev"
      },
      "id": "VH3LJE3tx4Ev",
      "execution_count": null,
      "outputs": []
    }
  ],
  "metadata": {
    "kernelspec": {
      "display_name": "Python 3",
      "language": "python",
      "name": "python3"
    },
    "language_info": {
      "codemirror_mode": {
        "name": "ipython",
        "version": 3
      },
      "file_extension": ".py",
      "mimetype": "text/x-python",
      "name": "python",
      "nbconvert_exporter": "python",
      "pygments_lexer": "ipython3",
      "version": "3.7.12"
    },
    "papermill": {
      "default_parameters": {},
      "duration": 14.853966,
      "end_time": "2023-02-07T15:04:09.659677",
      "environment_variables": {},
      "exception": null,
      "input_path": "__notebook__.ipynb",
      "output_path": "__notebook__.ipynb",
      "parameters": {},
      "start_time": "2023-02-07T15:03:54.805711",
      "version": "2.3.4"
    },
    "colab": {
      "provenance": [],
      "collapsed_sections": [
        "LvClTpVcFKli",
        "i1DI15hAFUXM",
        "Outiczi7GGGa"
      ]
    }
  },
  "nbformat": 4,
  "nbformat_minor": 5
}